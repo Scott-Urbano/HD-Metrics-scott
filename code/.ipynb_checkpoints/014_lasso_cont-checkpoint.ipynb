{
 "cells": [
  {
   "cell_type": "code",
   "execution_count": 1,
   "metadata": {},
   "outputs": [],
   "source": [
    "%%capture\n",
    "import stata_setup, os\n",
    "if os.name == 'nt':\n",
    "    stata_setup.config('C:/Program Files/Stata17/','mp')\n",
    "else:\n",
    "    stata_setup.config('/usr/local/stata17','mp')"
   ]
  },
  {
   "cell_type": "markdown",
   "metadata": {},
   "source": [
    "## Data Preparation"
   ]
  },
  {
   "cell_type": "code",
   "execution_count": 2,
   "metadata": {},
   "outputs": [
    {
     "name": "stdout",
     "output_type": "stream",
     "text": [
      "\n"
     ]
    }
   ],
   "source": [
    "%%stata -qui\n",
    "\n",
    "use \"../data/data\", clear\n",
    "\n",
    "quietly tabulate year, generate(y_)\n",
    "quietly tabulate cluster, generate(c_)\n",
    "\n",
    "* Generate the Flesch-Kincaid Grade Level indicator\n",
    "summarize flesch_kincaid_grade_level, detail\n",
    "local cutoff = r(p90)\n",
    "gen int FKG_01 = (flesch_kincaid_grade_level >= `cutoff')\n",
    "\n",
    "* Generate the excess number of sentences count\n",
    "summarize num_sentences, detail\n",
    "local cutoff_sentences = r(p5)\n",
    "gen int excess_sentences = num_sentences - `cutoff_sentences'\n",
    "replace excess_sentences = 0 if excess_sentences < 0\n",
    "\n",
    "local journals  ecm jpe qje res  //AER based category\n",
    "\n",
    "local jel_imp a_imp b_imp c_imp  e_imp f_imp g_imp h_imp i_imp j_imp k_imp /// \n",
    "\t\tl_imp m_imp n_imp o_imp p_imp q_imp r_imp y_imp z_imp // D JEL based case\n",
    "\n",
    "\n",
    "#delimit ;\n",
    "vl set log_num_authors log_num_pages both_genders prop_women\n",
    "       `journals' `jel_imp' y_2-y_20  c_2-c_215 jel_flag\n",
    "       , dummy clear nonotes;\n",
    "vl create fe = vldummy - (both_genders jel_flag);\n",
    "vl substitute mfe = i.fe;\n",
    "vl create controls = vlcontinuous - (prop_women);\n",
    "vl create controls_dummy = (both_genders jel_flag);\n",
    "vl substitute baseline = i.controls_dummy controls;\n",
    "vl rebuild;\n",
    "#delimit cr"
   ]
  },
  {
   "cell_type": "markdown",
   "metadata": {},
   "source": [
    "# Lasso - Logistic"
   ]
  },
  {
   "cell_type": "code",
   "execution_count": 3,
   "metadata": {},
   "outputs": [
    {
     "name": "stdout",
     "output_type": "stream",
     "text": [
      "\n"
     ]
    }
   ],
   "source": [
    "%%stata -qui -eret steret\n",
    "#delimit ;\n",
    "lasso logit FKG_01 prop_women $baseline $mfe, lambda(0.018) nolog;\n",
    "#delimit cr\n",
    "# $mfe efectos fijos, fijo lambda"
   ]
  },
  {
   "cell_type": "code",
   "execution_count": 4,
   "metadata": {},
   "outputs": [
    {
     "name": "stdout",
     "output_type": "stream",
     "text": [
      "------------------------------------------------------------------------------\n",
      "      FKG_01 | Coefficient\n",
      "-------------+----------------------------------------------------------------\n",
      "       0.ecm |  -.0062653\n",
      "       0.c_4 |  -1.185463\n",
      "      0.c_13 |  -.0127349\n",
      "      0.c_42 |  -.0158715\n",
      "      0.c_98 |  -.1500967\n",
      "     0.c_165 |  -.0096062\n",
      "     0.c_186 |  -.0158715\n",
      "       _cons |   -.803255\n",
      "------------------------------------------------------------------------------\n"
     ]
    }
   ],
   "source": [
    "%stata ereturn display"
   ]
  },
  {
   "cell_type": "markdown",
   "metadata": {},
   "source": [
    "# Lasso - Poisson"
   ]
  },
  {
   "cell_type": "code",
   "execution_count": 5,
   "metadata": {},
   "outputs": [
    {
     "name": "stdout",
     "output_type": "stream",
     "text": [
      "\n"
     ]
    }
   ],
   "source": [
    "%%stata -qui -eret steret\n",
    "#delimit ;\n",
    "lasso poisson excess_sentences prop_women $baseline $mfe, lambda(.07) nolog;\n",
    "#delimit cr\n",
    "# $baseline: regresores"
   ]
  },
  {
   "cell_type": "code",
   "execution_count": 6,
   "metadata": {},
   "outputs": [
    {
     "name": "stdout",
     "output_type": "stream",
     "text": [
      "------------------------------------------------------------------------------\n",
      "excess_sen~s | Coefficient\n",
      "-------------+----------------------------------------------------------------\n",
      "log_num_pa~s |   .3637272\n",
      "       0.ecm |  -.2927387\n",
      "       0.qje |   -.174802\n",
      "       0.res |  -.3358273\n",
      "     0.c_imp |  -.0362706\n",
      "      0.c_86 |   -.235316\n",
      "     0.c_114 |  -.4203244\n",
      "     0.c_136 |  -1.154179\n",
      "     0.c_142 |   -.100394\n",
      "     0.c_174 |  -.1172538\n",
      "       _cons |   2.351952\n",
      "------------------------------------------------------------------------------\n"
     ]
    }
   ],
   "source": [
    "%stata ereturn display"
   ]
  }
 ],
 "metadata": {
  "kernelspec": {
   "display_name": "Python 3 (ipykernel)",
   "language": "python",
   "name": "python3"
  },
  "language_info": {
   "codemirror_mode": {
    "name": "ipython",
    "version": 3
   },
   "file_extension": ".py",
   "mimetype": "text/x-python",
   "name": "python",
   "nbconvert_exporter": "python",
   "pygments_lexer": "ipython3",
   "version": "3.11.0"
  }
 },
 "nbformat": 4,
 "nbformat_minor": 4
}
