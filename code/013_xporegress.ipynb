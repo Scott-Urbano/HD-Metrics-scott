{
 "cells": [
  {
   "cell_type": "code",
   "execution_count": 1,
   "id": "cc9869ca-6449-4f07-a5e9-60a4b80e5749",
   "metadata": {},
   "outputs": [],
   "source": [
    "%%capture\n",
    "import stata_setup, os\n",
    "if os.name == 'nt':\n",
    "    stata_setup.config('C:/Program Files/Stata17/','mp')\n",
    "else:\n",
    "    stata_setup.config('/usr/local/stata17','mp')"
   ]
  },
  {
   "cell_type": "markdown",
   "id": "0a542440-f459-4f9e-a551-081bcb283008",
   "metadata": {},
   "source": [
    "## Preparing the data"
   ]
  },
  {
   "cell_type": "code",
   "execution_count": 2,
   "id": "aa28bc85-caa0-4ac0-a4e4-1a12dc14726d",
   "metadata": {},
   "outputs": [
    {
     "name": "stdout",
     "output_type": "stream",
     "text": [
      "\n"
     ]
    }
   ],
   "source": [
    "%%stata -qui\n",
    "\n",
    "use \"../data/data\", clear\n",
    "rename log_flesch_kincaid_grade_level FKG\n",
    "quietly tabulate year, generate(y_)\n",
    "quietly tabulate cluster, generate(c_)\n",
    "\n",
    "local journals  ecm jpe qje res  //AER based category\n",
    "\n",
    "local jel_imp a_imp b_imp c_imp  e_imp f_imp g_imp h_imp i_imp j_imp k_imp /// \n",
    "\t\tl_imp m_imp n_imp o_imp p_imp q_imp r_imp y_imp z_imp // D JEL based case"
   ]
  },
  {
   "cell_type": "markdown",
   "id": "87decc49-9700-4984-ac19-b35cd3748eb7",
   "metadata": {},
   "source": [
    "## Post-Regularization Lasso (lo correcto es double debiased machine learning)"
   ]
  },
  {
   "cell_type": "markdown",
   "id": "7258e78b-b320-4289-bf36-b6e21bed13ef",
   "metadata": {},
   "source": [
    "The Double/Debiased Machine Learning estimator is implemented by the ```xporegress``` Stata command. It'll utilize a 'plugin' value for the $\\lambda$s parameters by default, but they can also use standard cross-validation instead."
   ]
  },
  {
   "cell_type": "code",
   "execution_count": 3,
   "id": "c589a778-4098-437e-94e3-b52de2ef125e",
   "metadata": {},
   "outputs": [
    {
     "name": "stdout",
     "output_type": "stream",
     "text": [
      "\n"
     ]
    }
   ],
   "source": [
    "%%stata -qui\n",
    "#delimit ;\n",
    "xporegress FKG  log_num_authors log_num_pages both_genders prop_women,\n",
    "\t\t\tcontrols(`journals' `jel_imp' y_2-y_20  c_2-c_215  jel_flag)\n",
    "            vce(cluster cluster) rseed(42);\n",
    "estimates store xpo_plugin;\n",
    "xporegress FKG  log_num_authors log_num_pages both_genders prop_women,\n",
    "\t\t\tcontrols(`journals' `jel_imp' y_2-y_20  c_2-c_215  jel_flag)\n",
    "            vce(cluster cluster) selection(cv) rseed(42);\n",
    "estimates store xpo_cv;\n",
    "#delimit cr\n",
    "# la lista de variables, ciertos coeficientes no son diferente de cero (esparcidad, sparcity)\n",
    "# permite estimar los coeficientes de una forma consistente y hacer inferencia. Diferente a un modelo de lasso para predecir."
   ]
  },
  {
   "cell_type": "code",
   "execution_count": 4,
   "id": "60dfdd98-04bb-4bc6-ac0a-fd09ddead381",
   "metadata": {},
   "outputs": [
    {
     "name": "stdout",
     "output_type": "stream",
     "text": [
      "\n",
      ". estimates restore xpo_cv\n",
      "(results xpo_cv are active now)\n",
      "\n",
      ". xporegress\n",
      "\n",
      "Cross-fit partialing-out             Number of obs                =      4,988\n",
      "linear model                         Number of controls           =        257\n",
      "                                     Number of selected controls  =         41\n",
      "                                     Number of folds in cross-fit =         10\n",
      "                                     Number of resamples          =          1\n",
      "                                     Wald chi2(4)                 =       7.80\n",
      "                                     Prob > chi2                  =     0.0993\n",
      "\n",
      "                              (Std. err. adjusted for 215 clusters in cluster)\n",
      "------------------------------------------------------------------------------\n",
      "             |               Robust\n",
      "         FKG | Coefficient  std. err.      z    P>|z|     [95% conf. interval]\n",
      "-------------+----------------------------------------------------------------\n",
      "log_num_au~s |  -.0026534   .0068324    -0.39   0.698    -.0160447     .010738\n",
      "log_num_pa~s |   .0165392   .0100478     1.65   0.100    -.0031541    .0362326\n",
      "both_genders |   -.001836   .0062027    -0.30   0.767     -.013993    .0103211\n",
      "  prop_women |   -.016443   .0084284    -1.95   0.051    -.0329623    .0000763\n",
      "------------------------------------------------------------------------------\n",
      "Note: Chi-squared test is a Wald test of the coefficients of the variables\n",
      "      of interest jointly equal to zero. Lassos select controls for model\n",
      "      estimation. Type lassoinfo to see number of selected variables in each\n",
      "      lasso.\n",
      "Note: Lassos are performed accounting for clusters in cluster.\n",
      "\n",
      ". \n"
     ]
    }
   ],
   "source": [
    "%%stata\n",
    "estimates restore xpo_cv\n",
    "xporegress\n",
    "# la elasticidad entre la proporcion de mujeres y el abstracto de entendimiento del texto es de 1.64\n",
    "# solo podemos hacer inferencia para regresores que incluidos en el modelo como regresores D (41 obs)\n",
    "# si lo estimamos no podemos hacer inferencia de ello, los modelos de regresion lineal.\n",
    "#Los modelos no lineales, logistica no existe efectos fijos de alta dimensionalidad, para poisson si existe efectos fijos de alta dimensionaldiad\n",
    "# podemos ampliar para modelos no lineales? la respuesta es si."
   ]
  }
 ],
 "metadata": {
  "kernelspec": {
   "display_name": "Python 3 (ipykernel)",
   "language": "python",
   "name": "python3"
  },
  "language_info": {
   "codemirror_mode": {
    "name": "ipython",
    "version": 3
   },
   "file_extension": ".py",
   "mimetype": "text/x-python",
   "name": "python",
   "nbconvert_exporter": "python",
   "pygments_lexer": "ipython3",
   "version": "3.11.0"
  }
 },
 "nbformat": 4,
 "nbformat_minor": 5
}
