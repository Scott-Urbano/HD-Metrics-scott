{
 "cells": [
  {
   "cell_type": "code",
   "execution_count": 1,
   "id": "ee4a3eea-677f-4a96-a82e-b06a2580c721",
   "metadata": {},
   "outputs": [],
   "source": [
    "%%capture\n",
    "import stata_setup, os\n",
    "if os.name == 'nt':\n",
    "    stata_setup.config('C:/Program Files/Stata17/','mp')\n",
    "else:\n",
    "    stata_setup.config('/usr/local/stata17','mp')"
   ]
  },
  {
   "cell_type": "markdown",
   "id": "2b8001e8-26e6-4415-8807-098daea2be50",
   "metadata": {},
   "source": [
    "## Preparing the data"
   ]
  },
  {
   "cell_type": "code",
   "execution_count": 2,
   "id": "ac6899d5-aece-4095-9910-5ccd4e5e3cc8",
   "metadata": {},
   "outputs": [
    {
     "name": "stdout",
     "output_type": "stream",
     "text": [
      "\n"
     ]
    }
   ],
   "source": [
    "%%stata -qui\n",
    "\n",
    "use \"../data/data\", clear\n",
    "rename log_flesch_kincaid_grade_level FKG\n",
    "quietly tabulate year, generate(y_)\n",
    "quietly tabulate cluster, generate(c_)\n",
    "\n",
    "local journals  ecm jpe qje res  //AER based category\n",
    "\n",
    "local jel_imp a_imp b_imp c_imp  e_imp f_imp g_imp h_imp i_imp j_imp k_imp /// \n",
    "\t\tl_imp m_imp n_imp o_imp p_imp q_imp r_imp y_imp z_imp // D JEL based case"
   ]
  },
  {
   "cell_type": "markdown",
   "id": "d63d081d-7595-4cf7-a149-81bc0dd88a3e",
   "metadata": {},
   "source": [
    "## Double Selection Lasso"
   ]
  },
  {
   "cell_type": "markdown",
   "id": "392d5690-a2da-481b-8f22-9de44a60f7ca",
   "metadata": {},
   "source": [
    "The Double Selection Lasso is implemented by the ```dsregress``` Stata command. It'll utilize a 'plugin' value for the $\\lambda$s parameters by default, but they can also use standard cross-validation instead."
   ]
  },
  {
   "cell_type": "code",
   "execution_count": 3,
   "id": "9eb8ff14-febe-450f-84de-42b582f52544",
   "metadata": {},
   "outputs": [
    {
     "name": "stdout",
     "output_type": "stream",
     "text": [
      "Unknown #command\n",
      "Unknown #command\n",
      "Unknown #command\n",
      "Unknown #command\n",
      "\n"
     ]
    }
   ],
   "source": [
    "%%stata -qui\n",
    "#delimit ;\n",
    "dsregress FKG  log_num_authors log_num_pages both_genders prop_women,\n",
    "\t\t\tcontrols(`journals' `jel_imp' y_2-y_20  c_2-c_215  jel_flag)\n",
    "            vce(cluster cluster) rseed(42);\n",
    "estimates store ds_plugin;\n",
    "dsregress FKG  log_num_authors log_num_pages both_genders prop_women,\n",
    "\t\t\tcontrols(`journals' `jel_imp' y_2-y_20  c_2-c_215  jel_flag)\n",
    "            vce(cluster cluster) selection(cv) rseed(42);\n",
    "estimates store ds_cv;\n",
    "#delimit cr\n",
    "# pongo como regresores, proporcion de mujeres ... . Lista de los \"x\" si el indicador a sido o no ha sido imputado.\n",
    "# estimar errores estandar\n",
    "# fijar la semilla. si no se pone vce (...), va ser un lambda optimo tiene una forma matematica. Aun cuando los \"x\" no son normales.\n",
    "# 5 lassos, seleccione lambda de forma automatica de cross validation."
   ]
  },
  {
   "cell_type": "code",
   "execution_count": 4,
   "id": "5efccd22-a16d-4d39-aad6-a52f66f50df3",
   "metadata": {},
   "outputs": [
    {
     "name": "stdout",
     "output_type": "stream",
     "text": [
      "\n",
      ". #delimit ;\n",
      "delimiter now ;\n",
      ". lassocoef (ds_plugin, for(FKG)) (ds_cv, for(FKG))\n",
      ">           (ds_plugin, for(prop_women)) (ds_cv, for(prop_women));\n",
      "\n",
      "-----------------------------------------------------------\n",
      "             | ds_plugin   ds_cv     ds_plugin     ds_cv   \n",
      "             |    FKG       FKG     prop_women  prop_women \n",
      "-------------+---------------------------------------------\n",
      "         c_4 |     x    \n",
      "        c_36 |     x    \n",
      "        c_50 |     x    \n",
      "       c_165 |     x    \n",
      "       c_183 |     x    \n",
      "        c_51 |                           x     \n",
      "       c_100 |                           x     \n",
      "       c_108 |                           x     \n",
      "       c_174 |                           x     \n",
      "       c_196 |                           x     \n",
      "       c_imp |                                       x     \n",
      "       i_imp |                                       x     \n",
      "       k_imp |                                       x     \n",
      "       l_imp |                                       x     \n",
      "       o_imp |                                       x     \n",
      "       z_imp |                                       x     \n",
      "        y_10 |                                       x     \n",
      "       _cons |     x         x           x           x     \n",
      "-----------------------------------------------------------\n",
      "Legend:\n",
      "  b - base level\n",
      "  e - empty cell\n",
      "  o - omitted\n",
      "  x - estimated\n",
      "\n",
      ". #delimit cr\n",
      "delimiter now cr\n",
      ". # lassocoef, dos objetos uno de los lambdas y otro cross validados.\n",
      "Unknown #command\n",
      ". # Cuales son los regresores que escoge\n",
      "Unknown #command\n",
      ". ### EXAMEN, double selection lasso. Para proporciona de mujeres el regresor, \n",
      "> el campo haya sido imputado o no, el campo esta relacionado con mujeres\n",
      "Unknown #command\n",
      ". # si o no\n",
      "Unknown #command\n",
      ". # el double seleccion no esta relacionado con proporcion de mujeres.\n",
      "Unknown #command\n",
      ". # ningun efecto tiene poder explicativo de la \"y\", para la proporcion de muje\n",
      "> res los efectos fijos van a importar\n",
      "Unknown #command\n",
      ". \n"
     ]
    }
   ],
   "source": [
    "%%stata\n",
    "#delimit ;\n",
    "lassocoef (ds_plugin, for(FKG)) (ds_cv, for(FKG))\n",
    "          (ds_plugin, for(prop_women)) (ds_cv, for(prop_women));\n",
    "#delimit cr\n",
    "# lassocoef, dos objetos uno de los lambdas y otro cross validados.\n",
    "# Cuales son los regresores que escoge\n",
    "### EXAMEN, double selection lasso. Para proporciona de mujeres el regresor, el campo haya sido imputado o no, el campo esta relacionado con mujeres\n",
    "# si o no\n",
    "# el double seleccion no esta relacionado con proporcion de mujeres.\n",
    "# ningun efecto tiene poder explicativo de la \"y\", para la proporcion de mujeres los efectos fijos van a importar"
   ]
  },
  {
   "cell_type": "code",
   "execution_count": 5,
   "id": "543a6114-39d8-4b7f-be1f-3bb38fd54ad6",
   "metadata": {},
   "outputs": [
    {
     "name": "stdout",
     "output_type": "stream",
     "text": [
      "\n",
      ". estimates restore ds_cv\n",
      "(results ds_cv are active now)\n",
      "\n",
      ". dsregress\n",
      "\n",
      "Double-selection linear model         Number of obs               =      4,988\n",
      "                                      Number of controls          =        257\n",
      "                                      Number of selected controls =         37\n",
      "                                      Wald chi2(4)                =      13.61\n",
      "                                      Prob > chi2                 =     0.0087\n",
      "\n",
      "                              (Std. err. adjusted for 215 clusters in cluster)\n",
      "------------------------------------------------------------------------------\n",
      "             |               Robust\n",
      "         FKG | Coefficient  std. err.      z    P>|z|     [95% conf. interval]\n",
      "-------------+----------------------------------------------------------------\n",
      "log_num_au~s |  -.0053689   .0042331    -1.27   0.205    -.0136657    .0029278\n",
      "log_num_pa~s |   .0161836   .0052931     3.06   0.002     .0058093     .026558\n",
      "both_genders |   .0005261   .0042799     0.12   0.902    -.0078624    .0089146\n",
      "  prop_women |  -.0172381   .0058155    -2.96   0.003    -.0286363   -.0058398\n",
      "------------------------------------------------------------------------------\n",
      "Note: Chi-squared test is a Wald test of the coefficients of the variables\n",
      "      of interest jointly equal to zero. Lassos select controls for model\n",
      "      estimation. Type lassoinfo to see number of selected variables in each\n",
      "      lasso.\n",
      "Note: Lassos are performed accounting for clusters in cluster.\n",
      "\n",
      ". # 257 controles y que de ellos en total se selecciono 37 de ellos. xtilda. so\n",
      "> lo 37 son relevantes. coeficientes de importancia y error estandar,\n",
      "Unknown #command\n",
      ". # la proporcion de mujeres va de 0 a 1, la comprension del documento se vuelv\n",
      "> e mas comprensivo o el numero de años va disminuir en 1.72%, si todos\n",
      "Unknown #command\n",
      ". # los autores son mujeres significante al 1%.\n",
      "Unknown #command\n",
      ". # el modelo siempre va incrurrir en una constante, pero no lo reporta stata.\n",
      "Unknown #command\n",
      ". \n",
      ". # los efectos fijos de alta dimensionalidad siempre regresionabas 257, en est\n",
      "> e caso solo 37 de ellos no son ceros. y esta imponiendo esa restriccion.\n",
      "Unknown #command\n",
      ". \n"
     ]
    }
   ],
   "source": [
    "%%stata\n",
    "estimates restore ds_cv\n",
    "dsregress\n",
    "# 257 controles y que de ellos en total se selecciono 37 de ellos. xtilda. solo 37 son relevantes. coeficientes de importancia y error estandar,\n",
    "# la proporcion de mujeres va de 0 a 1, la comprension del documento se vuelve mas comprensivo o el numero de años va disminuir en 1.72%, si todos\n",
    "# los autores son mujeres significante al 1%.\n",
    "# el modelo siempre va incrurrir en una constante, pero no lo reporta stata.\n",
    "\n",
    "# los efectos fijos de alta dimensionalidad siempre regresionabas 257, en este caso solo 37 de ellos no son ceros. y esta imponiendo esa restriccion."
   ]
  }
 ],
 "metadata": {
  "kernelspec": {
   "display_name": "Python 3 (ipykernel)",
   "language": "python",
   "name": "python3"
  },
  "language_info": {
   "codemirror_mode": {
    "name": "ipython",
    "version": 3
   },
   "file_extension": ".py",
   "mimetype": "text/x-python",
   "name": "python",
   "nbconvert_exporter": "python",
   "pygments_lexer": "ipython3",
   "version": "3.11.0"
  },
  "vscode": {
   "interpreter": {
    "hash": "11938c6bc6919ae2720b4d5011047913343b08a43b18698fd82dedb0d4417594"
   }
  }
 },
 "nbformat": 4,
 "nbformat_minor": 5
}
